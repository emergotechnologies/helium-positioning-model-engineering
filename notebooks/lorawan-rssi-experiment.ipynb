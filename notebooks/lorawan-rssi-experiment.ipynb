{
 "cells": [
  {
   "cell_type": "markdown",
   "id": "a1509028",
   "metadata": {
    "pycharm": {
     "name": "#%% md\n"
    }
   },
   "source": [
    "## LoRaWAN Regression to predict Distances"
   ]
  },
  {
   "cell_type": "code",
   "execution_count": 1,
   "id": "52b351a1-1dbd-482b-befc-2965d5dd9f52",
   "metadata": {
    "pycharm": {
     "name": "#%%\n"
    }
   },
   "outputs": [],
   "source": [
    "import math\n",
    "import matplotlib.pyplot as plt\n",
    "import numpy as np\n",
    "import pandas as pd\n",
    "from scipy.optimize import minimize\n",
    "from sklearn.cross_decomposition import PLSRegression\n",
    "from sklearn.decomposition import PCA\n",
    "from sklearn.ensemble import RandomForestRegressor, GradientBoostingRegressor\n",
    "from sklearn.linear_model import LinearRegression\n",
    "import sklearn.metrics as metrics\n",
    "from sklearn.model_selection import train_test_split, RandomizedSearchCV, GridSearchCV\n",
    "from sklearn.neural_network import MLPRegressor\n",
    "from sklearn.pipeline import make_pipeline, Pipeline\n",
    "from sklearn.preprocessing import LabelEncoder, OneHotEncoder, StandardScaler, PolynomialFeatures, FunctionTransformer\n",
    "import haversine as hs\n",
    "from haversine import Unit"
   ]
  },
  {
   "cell_type": "code",
   "execution_count": 2,
   "id": "15c870fc",
   "metadata": {},
   "outputs": [],
   "source": [
    "def regression_results(y_test, y_pred):\n",
    "\n",
    "    # Regression metrics\n",
    "    explained_variance=metrics.explained_variance_score(y_test, y_pred)\n",
    "    mean_absolute_error=metrics.mean_absolute_error(y_test, y_pred) \n",
    "    mse=metrics.mean_squared_error(y_test, y_pred) \n",
    "    median_absolute_error=metrics.median_absolute_error(y_test, y_pred)\n",
    "    r2=metrics.r2_score(y_test, y_pred)\n",
    "\n",
    "    print('   explained_variance: ', round(explained_variance,4))    \n",
    "    print('   r2: ', round(r2,4))\n",
    "    print('   MAE: ', round(mean_absolute_error,4))\n",
    "    print('   MSE: ', round(mse,4))\n",
    "    print('   RMSE: ', round(np.sqrt(mse),4))"
   ]
  },
  {
   "cell_type": "markdown",
   "id": "c15cd772",
   "metadata": {},
   "source": [
    "### Data Preperation"
   ]
  },
  {
   "cell_type": "code",
   "execution_count": 3,
   "id": "c67afc35-f3e0-4b2f-9f49-15bc83b58c21",
   "metadata": {
    "pycharm": {
     "name": "#%%\n"
    }
   },
   "outputs": [
    {
     "ename": "FileNotFoundError",
     "evalue": "[Errno 2] No such file or directory: '../../helium-api-wrapper/data/challenges_with_location.pkl'",
     "output_type": "error",
     "traceback": [
      "\u001b[1;31m---------------------------------------------------------------------------\u001b[0m",
      "\u001b[1;31mFileNotFoundError\u001b[0m                         Traceback (most recent call last)",
      "Cell \u001b[1;32mIn [3], line 2\u001b[0m\n\u001b[0;32m      1\u001b[0m label \u001b[39m=\u001b[39m LabelEncoder()\n\u001b[1;32m----> 2\u001b[0m data \u001b[39m=\u001b[39m pd\u001b[39m.\u001b[39;49mread_pickle(\u001b[39m\"\u001b[39;49m\u001b[39m../../helium-api-wrapper/data/challenges_with_location.pkl\u001b[39;49m\u001b[39m\"\u001b[39;49m)\n\u001b[0;32m      3\u001b[0m data[\u001b[39m\"\u001b[39m\u001b[39mdatarate\u001b[39m\u001b[39m\"\u001b[39m] \u001b[39m=\u001b[39m label\u001b[39m.\u001b[39mfit_transform(data[\u001b[39m\"\u001b[39m\u001b[39mdatarate\u001b[39m\u001b[39m\"\u001b[39m])\n\u001b[0;32m      4\u001b[0m \u001b[39m# data[\"valid\"] = label.fit_transform(data[\"valid\"])\u001b[39;00m\n\u001b[0;32m      5\u001b[0m \u001b[39m# NUM_WITTNESSES = int(data.index[-1]/data[\"key\"].values[-1])\u001b[39;00m\n",
      "File \u001b[1;32mf:\\Python\\lib\\site-packages\\pandas\\io\\pickle.py:190\u001b[0m, in \u001b[0;36mread_pickle\u001b[1;34m(filepath_or_buffer, compression, storage_options)\u001b[0m\n\u001b[0;32m    124\u001b[0m \u001b[39m\"\"\"\u001b[39;00m\n\u001b[0;32m    125\u001b[0m \u001b[39mLoad pickled pandas object (or any object) from file.\u001b[39;00m\n\u001b[0;32m    126\u001b[0m \n\u001b[1;32m   (...)\u001b[0m\n\u001b[0;32m    187\u001b[0m \u001b[39m4    4    9\u001b[39;00m\n\u001b[0;32m    188\u001b[0m \u001b[39m\"\"\"\u001b[39;00m\n\u001b[0;32m    189\u001b[0m excs_to_catch \u001b[39m=\u001b[39m (\u001b[39mAttributeError\u001b[39;00m, \u001b[39mImportError\u001b[39;00m, \u001b[39mModuleNotFoundError\u001b[39;00m, \u001b[39mTypeError\u001b[39;00m)\n\u001b[1;32m--> 190\u001b[0m \u001b[39mwith\u001b[39;00m get_handle(\n\u001b[0;32m    191\u001b[0m     filepath_or_buffer,\n\u001b[0;32m    192\u001b[0m     \u001b[39m\"\u001b[39;49m\u001b[39mrb\u001b[39;49m\u001b[39m\"\u001b[39;49m,\n\u001b[0;32m    193\u001b[0m     compression\u001b[39m=\u001b[39;49mcompression,\n\u001b[0;32m    194\u001b[0m     is_text\u001b[39m=\u001b[39;49m\u001b[39mFalse\u001b[39;49;00m,\n\u001b[0;32m    195\u001b[0m     storage_options\u001b[39m=\u001b[39;49mstorage_options,\n\u001b[0;32m    196\u001b[0m ) \u001b[39mas\u001b[39;00m handles:\n\u001b[0;32m    197\u001b[0m \n\u001b[0;32m    198\u001b[0m     \u001b[39m# 1) try standard library Pickle\u001b[39;00m\n\u001b[0;32m    199\u001b[0m     \u001b[39m# 2) try pickle_compat (older pandas version) to handle subclass changes\u001b[39;00m\n\u001b[0;32m    200\u001b[0m     \u001b[39m# 3) try pickle_compat with latin-1 encoding upon a UnicodeDecodeError\u001b[39;00m\n\u001b[0;32m    202\u001b[0m     \u001b[39mtry\u001b[39;00m:\n\u001b[0;32m    203\u001b[0m         \u001b[39m# TypeError for Cython complaints about object.__new__ vs Tick.__new__\u001b[39;00m\n\u001b[0;32m    204\u001b[0m         \u001b[39mtry\u001b[39;00m:\n",
      "File \u001b[1;32mf:\\Python\\lib\\site-packages\\pandas\\io\\common.py:865\u001b[0m, in \u001b[0;36mget_handle\u001b[1;34m(path_or_buf, mode, encoding, compression, memory_map, is_text, errors, storage_options)\u001b[0m\n\u001b[0;32m    856\u001b[0m         handle \u001b[39m=\u001b[39m \u001b[39mopen\u001b[39m(\n\u001b[0;32m    857\u001b[0m             handle,\n\u001b[0;32m    858\u001b[0m             ioargs\u001b[39m.\u001b[39mmode,\n\u001b[1;32m   (...)\u001b[0m\n\u001b[0;32m    861\u001b[0m             newline\u001b[39m=\u001b[39m\u001b[39m\"\u001b[39m\u001b[39m\"\u001b[39m,\n\u001b[0;32m    862\u001b[0m         )\n\u001b[0;32m    863\u001b[0m     \u001b[39melse\u001b[39;00m:\n\u001b[0;32m    864\u001b[0m         \u001b[39m# Binary mode\u001b[39;00m\n\u001b[1;32m--> 865\u001b[0m         handle \u001b[39m=\u001b[39m \u001b[39mopen\u001b[39;49m(handle, ioargs\u001b[39m.\u001b[39;49mmode)\n\u001b[0;32m    866\u001b[0m     handles\u001b[39m.\u001b[39mappend(handle)\n\u001b[0;32m    868\u001b[0m \u001b[39m# Convert BytesIO or file objects passed with an encoding\u001b[39;00m\n",
      "\u001b[1;31mFileNotFoundError\u001b[0m: [Errno 2] No such file or directory: '../../helium-api-wrapper/data/challenges_with_location.pkl'"
     ]
    }
   ],
   "source": [
    "label = LabelEncoder()\n",
    "data = pd.read_csv(\"../../helium-api-wrapper/data/challenges_with_location.pkl\")\n",
    "data[\"datarate\"] = label.fit_transform(data[\"datarate\"])\n",
    "# data[\"valid\"] = label.fit_transform(data[\"valid\"])\n",
    "# NUM_WITTNESSES = int(data.index[-1]/data[\"key\"].values[-1])\n",
    "\n",
    "for i in range(len(data)):\n",
    "    data[\"distance\"][i] = hs.haversine(\n",
    "        (data[\"challengee_lat\"].iloc[i], data[\"challengee_lng\"].iloc[i]),\n",
    "        (data[\"witness_lat\"].iloc[i], data[\"witness_lng\"].iloc[i]),\n",
    "        unit=Unit.METERS\n",
    "    )\n",
    "    \n",
    "data[\"distance\"]\n",
    "data.drop([\"challengee\", \"witness\", \"hash\"], axis=1, inplace=True)\n",
    "\n",
    "data"
   ]
  },
  {
   "cell_type": "code",
   "execution_count": 190,
   "id": "00fc61dc",
   "metadata": {},
   "outputs": [
    {
     "data": {
      "text/html": [
       "<div>\n",
       "<style scoped>\n",
       "    .dataframe tbody tr th:only-of-type {\n",
       "        vertical-align: middle;\n",
       "    }\n",
       "\n",
       "    .dataframe tbody tr th {\n",
       "        vertical-align: top;\n",
       "    }\n",
       "\n",
       "    .dataframe thead th {\n",
       "        text-align: right;\n",
       "    }\n",
       "</style>\n",
       "<table border=\"1\" class=\"dataframe\">\n",
       "  <thead>\n",
       "    <tr style=\"text-align: right;\">\n",
       "      <th></th>\n",
       "      <th>challengee_lat</th>\n",
       "      <th>challengee_lng</th>\n",
       "      <th>witness_lat</th>\n",
       "      <th>witness_lng</th>\n",
       "      <th>signal</th>\n",
       "      <th>snr</th>\n",
       "      <th>datarate</th>\n",
       "      <th>time</th>\n",
       "      <th>distance</th>\n",
       "    </tr>\n",
       "  </thead>\n",
       "  <tbody>\n",
       "    <tr>\n",
       "      <th>5</th>\n",
       "      <td>33.987525</td>\n",
       "      <td>-117.760349</td>\n",
       "      <td>33.986242</td>\n",
       "      <td>-117.757921</td>\n",
       "      <td>-62</td>\n",
       "      <td>9.8</td>\n",
       "      <td>1</td>\n",
       "      <td>1668371552</td>\n",
       "      <td>265.371504</td>\n",
       "    </tr>\n",
       "    <tr>\n",
       "      <th>11</th>\n",
       "      <td>30.318300</td>\n",
       "      <td>-90.991508</td>\n",
       "      <td>30.320558</td>\n",
       "      <td>-90.997692</td>\n",
       "      <td>-93</td>\n",
       "      <td>9.2</td>\n",
       "      <td>1</td>\n",
       "      <td>1668371552</td>\n",
       "      <td>644.447594</td>\n",
       "    </tr>\n",
       "    <tr>\n",
       "      <th>23</th>\n",
       "      <td>40.636649</td>\n",
       "      <td>22.940386</td>\n",
       "      <td>40.647572</td>\n",
       "      <td>22.951109</td>\n",
       "      <td>-89</td>\n",
       "      <td>4.2</td>\n",
       "      <td>0</td>\n",
       "      <td>1668371552</td>\n",
       "      <td>1514.578198</td>\n",
       "    </tr>\n",
       "    <tr>\n",
       "      <th>25</th>\n",
       "      <td>40.636649</td>\n",
       "      <td>22.940386</td>\n",
       "      <td>40.641975</td>\n",
       "      <td>22.925846</td>\n",
       "      <td>-83</td>\n",
       "      <td>3.8</td>\n",
       "      <td>0</td>\n",
       "      <td>1668371552</td>\n",
       "      <td>1362.309092</td>\n",
       "    </tr>\n",
       "    <tr>\n",
       "      <th>53</th>\n",
       "      <td>31.663485</td>\n",
       "      <td>-106.372491</td>\n",
       "      <td>31.635912</td>\n",
       "      <td>-106.381788</td>\n",
       "      <td>-86</td>\n",
       "      <td>8.5</td>\n",
       "      <td>1</td>\n",
       "      <td>1668371552</td>\n",
       "      <td>3189.765706</td>\n",
       "    </tr>\n",
       "    <tr>\n",
       "      <th>...</th>\n",
       "      <td>...</td>\n",
       "      <td>...</td>\n",
       "      <td>...</td>\n",
       "      <td>...</td>\n",
       "      <td>...</td>\n",
       "      <td>...</td>\n",
       "      <td>...</td>\n",
       "      <td>...</td>\n",
       "      <td>...</td>\n",
       "    </tr>\n",
       "    <tr>\n",
       "      <th>682</th>\n",
       "      <td>40.252715</td>\n",
       "      <td>-83.041185</td>\n",
       "      <td>40.251931</td>\n",
       "      <td>-83.046011</td>\n",
       "      <td>-45</td>\n",
       "      <td>11.2</td>\n",
       "      <td>1</td>\n",
       "      <td>1668371552</td>\n",
       "      <td>418.755697</td>\n",
       "    </tr>\n",
       "    <tr>\n",
       "      <th>683</th>\n",
       "      <td>40.252715</td>\n",
       "      <td>-83.041185</td>\n",
       "      <td>40.255802</td>\n",
       "      <td>-83.030011</td>\n",
       "      <td>-31</td>\n",
       "      <td>13.0</td>\n",
       "      <td>1</td>\n",
       "      <td>1668371552</td>\n",
       "      <td>1008.387911</td>\n",
       "    </tr>\n",
       "    <tr>\n",
       "      <th>696</th>\n",
       "      <td>56.662964</td>\n",
       "      <td>16.323998</td>\n",
       "      <td>56.665919</td>\n",
       "      <td>16.317417</td>\n",
       "      <td>-95</td>\n",
       "      <td>6.8</td>\n",
       "      <td>0</td>\n",
       "      <td>1668371552</td>\n",
       "      <td>519.365730</td>\n",
       "    </tr>\n",
       "    <tr>\n",
       "      <th>709</th>\n",
       "      <td>41.064801</td>\n",
       "      <td>-7.794917</td>\n",
       "      <td>41.059916</td>\n",
       "      <td>-7.792243</td>\n",
       "      <td>-98</td>\n",
       "      <td>3.6</td>\n",
       "      <td>0</td>\n",
       "      <td>1668371552</td>\n",
       "      <td>587.611076</td>\n",
       "    </tr>\n",
       "    <tr>\n",
       "      <th>712</th>\n",
       "      <td>30.421989</td>\n",
       "      <td>-86.928744</td>\n",
       "      <td>30.422063</td>\n",
       "      <td>-86.930276</td>\n",
       "      <td>-74</td>\n",
       "      <td>12.8</td>\n",
       "      <td>1</td>\n",
       "      <td>1668371552</td>\n",
       "      <td>147.145579</td>\n",
       "    </tr>\n",
       "  </tbody>\n",
       "</table>\n",
       "<p>74 rows × 9 columns</p>\n",
       "</div>"
      ],
      "text/plain": [
       "     challengee_lat  challengee_lng  witness_lat  witness_lng  signal   snr  \\\n",
       "5         33.987525     -117.760349    33.986242  -117.757921     -62   9.8   \n",
       "11        30.318300      -90.991508    30.320558   -90.997692     -93   9.2   \n",
       "23        40.636649       22.940386    40.647572    22.951109     -89   4.2   \n",
       "25        40.636649       22.940386    40.641975    22.925846     -83   3.8   \n",
       "53        31.663485     -106.372491    31.635912  -106.381788     -86   8.5   \n",
       "..              ...             ...          ...          ...     ...   ...   \n",
       "682       40.252715      -83.041185    40.251931   -83.046011     -45  11.2   \n",
       "683       40.252715      -83.041185    40.255802   -83.030011     -31  13.0   \n",
       "696       56.662964       16.323998    56.665919    16.317417     -95   6.8   \n",
       "709       41.064801       -7.794917    41.059916    -7.792243     -98   3.6   \n",
       "712       30.421989      -86.928744    30.422063   -86.930276     -74  12.8   \n",
       "\n",
       "     datarate        time     distance  \n",
       "5           1  1668371552   265.371504  \n",
       "11          1  1668371552   644.447594  \n",
       "23          0  1668371552  1514.578198  \n",
       "25          0  1668371552  1362.309092  \n",
       "53          1  1668371552  3189.765706  \n",
       "..        ...         ...          ...  \n",
       "682         1  1668371552   418.755697  \n",
       "683         1  1668371552  1008.387911  \n",
       "696         0  1668371552   519.365730  \n",
       "709         0  1668371552   587.611076  \n",
       "712         1  1668371552   147.145579  \n",
       "\n",
       "[74 rows x 9 columns]"
      ]
     },
     "execution_count": 190,
     "metadata": {},
     "output_type": "execute_result"
    }
   ],
   "source": [
    "data = data.drop(data[(data[\"snr\"].values < 3) & (data[\"snr\"].values > -7.5)].index)\n",
    "data = data.drop(data[data[\"signal\"].values < -100].index)\n",
    "data = data.drop(data[data[\"distance\"].values == 0].index)\n",
    "data = data.drop(data[data[\"distance\"].values > 15000].index)\n",
    "data"
   ]
  },
  {
   "cell_type": "code",
   "execution_count": 191,
   "id": "eef9bdb7",
   "metadata": {},
   "outputs": [
    {
     "data": {
      "text/html": [
       "<div>\n",
       "<style scoped>\n",
       "    .dataframe tbody tr th:only-of-type {\n",
       "        vertical-align: middle;\n",
       "    }\n",
       "\n",
       "    .dataframe tbody tr th {\n",
       "        vertical-align: top;\n",
       "    }\n",
       "\n",
       "    .dataframe thead th {\n",
       "        text-align: right;\n",
       "    }\n",
       "</style>\n",
       "<table border=\"1\" class=\"dataframe\">\n",
       "  <thead>\n",
       "    <tr style=\"text-align: right;\">\n",
       "      <th></th>\n",
       "      <th>challengee_lat</th>\n",
       "      <th>challengee_lng</th>\n",
       "      <th>witness_lat</th>\n",
       "      <th>witness_lng</th>\n",
       "      <th>signal</th>\n",
       "      <th>snr</th>\n",
       "      <th>datarate</th>\n",
       "      <th>time</th>\n",
       "      <th>distance</th>\n",
       "    </tr>\n",
       "  </thead>\n",
       "  <tbody>\n",
       "    <tr>\n",
       "      <th>count</th>\n",
       "      <td>74.000000</td>\n",
       "      <td>74.000000</td>\n",
       "      <td>74.000000</td>\n",
       "      <td>74.000000</td>\n",
       "      <td>74.000000</td>\n",
       "      <td>74.000000</td>\n",
       "      <td>74.000000</td>\n",
       "      <td>7.400000e+01</td>\n",
       "      <td>74.000000</td>\n",
       "    </tr>\n",
       "    <tr>\n",
       "      <th>mean</th>\n",
       "      <td>43.786298</td>\n",
       "      <td>-41.780640</td>\n",
       "      <td>43.783050</td>\n",
       "      <td>-41.785036</td>\n",
       "      <td>-84.189189</td>\n",
       "      <td>7.641216</td>\n",
       "      <td>0.500000</td>\n",
       "      <td>1.668372e+09</td>\n",
       "      <td>2225.964120</td>\n",
       "    </tr>\n",
       "    <tr>\n",
       "      <th>std</th>\n",
       "      <td>7.306899</td>\n",
       "      <td>58.075492</td>\n",
       "      <td>7.309299</td>\n",
       "      <td>58.075135</td>\n",
       "      <td>16.815417</td>\n",
       "      <td>5.269279</td>\n",
       "      <td>0.503413</td>\n",
       "      <td>0.000000e+00</td>\n",
       "      <td>2880.926101</td>\n",
       "    </tr>\n",
       "    <tr>\n",
       "      <th>min</th>\n",
       "      <td>30.307940</td>\n",
       "      <td>-122.795593</td>\n",
       "      <td>30.307203</td>\n",
       "      <td>-122.801538</td>\n",
       "      <td>-100.000000</td>\n",
       "      <td>-20.000000</td>\n",
       "      <td>0.000000</td>\n",
       "      <td>1.668372e+09</td>\n",
       "      <td>17.860550</td>\n",
       "    </tr>\n",
       "    <tr>\n",
       "      <th>25%</th>\n",
       "      <td>40.252715</td>\n",
       "      <td>-94.800230</td>\n",
       "      <td>40.250323</td>\n",
       "      <td>-94.805068</td>\n",
       "      <td>-96.750000</td>\n",
       "      <td>6.050000</td>\n",
       "      <td>0.000000</td>\n",
       "      <td>1.668372e+09</td>\n",
       "      <td>463.733989</td>\n",
       "    </tr>\n",
       "    <tr>\n",
       "      <th>50%</th>\n",
       "      <td>43.719113</td>\n",
       "      <td>-40.723581</td>\n",
       "      <td>43.735544</td>\n",
       "      <td>-40.739900</td>\n",
       "      <td>-89.000000</td>\n",
       "      <td>8.350000</td>\n",
       "      <td>0.500000</td>\n",
       "      <td>1.668372e+09</td>\n",
       "      <td>1059.352796</td>\n",
       "    </tr>\n",
       "    <tr>\n",
       "      <th>75%</th>\n",
       "      <td>49.213136</td>\n",
       "      <td>18.284835</td>\n",
       "      <td>49.219422</td>\n",
       "      <td>18.243025</td>\n",
       "      <td>-79.000000</td>\n",
       "      <td>10.950000</td>\n",
       "      <td>1.000000</td>\n",
       "      <td>1.668372e+09</td>\n",
       "      <td>2507.647220</td>\n",
       "    </tr>\n",
       "    <tr>\n",
       "      <th>max</th>\n",
       "      <td>59.413057</td>\n",
       "      <td>41.132225</td>\n",
       "      <td>59.441270</td>\n",
       "      <td>41.136897</td>\n",
       "      <td>-23.000000</td>\n",
       "      <td>13.200000</td>\n",
       "      <td>1.000000</td>\n",
       "      <td>1.668372e+09</td>\n",
       "      <td>12200.536907</td>\n",
       "    </tr>\n",
       "  </tbody>\n",
       "</table>\n",
       "</div>"
      ],
      "text/plain": [
       "       challengee_lat  challengee_lng  witness_lat  witness_lng      signal  \\\n",
       "count       74.000000       74.000000    74.000000    74.000000   74.000000   \n",
       "mean        43.786298      -41.780640    43.783050   -41.785036  -84.189189   \n",
       "std          7.306899       58.075492     7.309299    58.075135   16.815417   \n",
       "min         30.307940     -122.795593    30.307203  -122.801538 -100.000000   \n",
       "25%         40.252715      -94.800230    40.250323   -94.805068  -96.750000   \n",
       "50%         43.719113      -40.723581    43.735544   -40.739900  -89.000000   \n",
       "75%         49.213136       18.284835    49.219422    18.243025  -79.000000   \n",
       "max         59.413057       41.132225    59.441270    41.136897  -23.000000   \n",
       "\n",
       "             snr   datarate          time      distance  \n",
       "count  74.000000  74.000000  7.400000e+01     74.000000  \n",
       "mean    7.641216   0.500000  1.668372e+09   2225.964120  \n",
       "std     5.269279   0.503413  0.000000e+00   2880.926101  \n",
       "min   -20.000000   0.000000  1.668372e+09     17.860550  \n",
       "25%     6.050000   0.000000  1.668372e+09    463.733989  \n",
       "50%     8.350000   0.500000  1.668372e+09   1059.352796  \n",
       "75%    10.950000   1.000000  1.668372e+09   2507.647220  \n",
       "max    13.200000   1.000000  1.668372e+09  12200.536907  "
      ]
     },
     "execution_count": 191,
     "metadata": {},
     "output_type": "execute_result"
    }
   ],
   "source": [
    "data.describe()"
   ]
  },
  {
   "cell_type": "code",
   "execution_count": 192,
   "id": "b5917159",
   "metadata": {},
   "outputs": [
    {
     "data": {
      "text/html": [
       "<div>\n",
       "<style scoped>\n",
       "    .dataframe tbody tr th:only-of-type {\n",
       "        vertical-align: middle;\n",
       "    }\n",
       "\n",
       "    .dataframe tbody tr th {\n",
       "        vertical-align: top;\n",
       "    }\n",
       "\n",
       "    .dataframe thead th {\n",
       "        text-align: right;\n",
       "    }\n",
       "</style>\n",
       "<table border=\"1\" class=\"dataframe\">\n",
       "  <thead>\n",
       "    <tr style=\"text-align: right;\">\n",
       "      <th></th>\n",
       "      <th>witness_lat</th>\n",
       "      <th>witness_lng</th>\n",
       "      <th>signal</th>\n",
       "      <th>snr</th>\n",
       "      <th>datarate</th>\n",
       "      <th>time</th>\n",
       "    </tr>\n",
       "  </thead>\n",
       "  <tbody>\n",
       "    <tr>\n",
       "      <th>5</th>\n",
       "      <td>33.986242</td>\n",
       "      <td>-117.757921</td>\n",
       "      <td>-62</td>\n",
       "      <td>9.8</td>\n",
       "      <td>1</td>\n",
       "      <td>1668371552</td>\n",
       "    </tr>\n",
       "    <tr>\n",
       "      <th>11</th>\n",
       "      <td>30.320558</td>\n",
       "      <td>-90.997692</td>\n",
       "      <td>-93</td>\n",
       "      <td>9.2</td>\n",
       "      <td>1</td>\n",
       "      <td>1668371552</td>\n",
       "    </tr>\n",
       "    <tr>\n",
       "      <th>23</th>\n",
       "      <td>40.647572</td>\n",
       "      <td>22.951109</td>\n",
       "      <td>-89</td>\n",
       "      <td>4.2</td>\n",
       "      <td>0</td>\n",
       "      <td>1668371552</td>\n",
       "    </tr>\n",
       "    <tr>\n",
       "      <th>25</th>\n",
       "      <td>40.641975</td>\n",
       "      <td>22.925846</td>\n",
       "      <td>-83</td>\n",
       "      <td>3.8</td>\n",
       "      <td>0</td>\n",
       "      <td>1668371552</td>\n",
       "    </tr>\n",
       "    <tr>\n",
       "      <th>53</th>\n",
       "      <td>31.635912</td>\n",
       "      <td>-106.381788</td>\n",
       "      <td>-86</td>\n",
       "      <td>8.5</td>\n",
       "      <td>1</td>\n",
       "      <td>1668371552</td>\n",
       "    </tr>\n",
       "    <tr>\n",
       "      <th>...</th>\n",
       "      <td>...</td>\n",
       "      <td>...</td>\n",
       "      <td>...</td>\n",
       "      <td>...</td>\n",
       "      <td>...</td>\n",
       "      <td>...</td>\n",
       "    </tr>\n",
       "    <tr>\n",
       "      <th>682</th>\n",
       "      <td>40.251931</td>\n",
       "      <td>-83.046011</td>\n",
       "      <td>-45</td>\n",
       "      <td>11.2</td>\n",
       "      <td>1</td>\n",
       "      <td>1668371552</td>\n",
       "    </tr>\n",
       "    <tr>\n",
       "      <th>683</th>\n",
       "      <td>40.255802</td>\n",
       "      <td>-83.030011</td>\n",
       "      <td>-31</td>\n",
       "      <td>13.0</td>\n",
       "      <td>1</td>\n",
       "      <td>1668371552</td>\n",
       "    </tr>\n",
       "    <tr>\n",
       "      <th>696</th>\n",
       "      <td>56.665919</td>\n",
       "      <td>16.317417</td>\n",
       "      <td>-95</td>\n",
       "      <td>6.8</td>\n",
       "      <td>0</td>\n",
       "      <td>1668371552</td>\n",
       "    </tr>\n",
       "    <tr>\n",
       "      <th>709</th>\n",
       "      <td>41.059916</td>\n",
       "      <td>-7.792243</td>\n",
       "      <td>-98</td>\n",
       "      <td>3.6</td>\n",
       "      <td>0</td>\n",
       "      <td>1668371552</td>\n",
       "    </tr>\n",
       "    <tr>\n",
       "      <th>712</th>\n",
       "      <td>30.422063</td>\n",
       "      <td>-86.930276</td>\n",
       "      <td>-74</td>\n",
       "      <td>12.8</td>\n",
       "      <td>1</td>\n",
       "      <td>1668371552</td>\n",
       "    </tr>\n",
       "  </tbody>\n",
       "</table>\n",
       "<p>74 rows × 6 columns</p>\n",
       "</div>"
      ],
      "text/plain": [
       "     witness_lat  witness_lng  signal   snr  datarate        time\n",
       "5      33.986242  -117.757921     -62   9.8         1  1668371552\n",
       "11     30.320558   -90.997692     -93   9.2         1  1668371552\n",
       "23     40.647572    22.951109     -89   4.2         0  1668371552\n",
       "25     40.641975    22.925846     -83   3.8         0  1668371552\n",
       "53     31.635912  -106.381788     -86   8.5         1  1668371552\n",
       "..           ...          ...     ...   ...       ...         ...\n",
       "682    40.251931   -83.046011     -45  11.2         1  1668371552\n",
       "683    40.255802   -83.030011     -31  13.0         1  1668371552\n",
       "696    56.665919    16.317417     -95   6.8         0  1668371552\n",
       "709    41.059916    -7.792243     -98   3.6         0  1668371552\n",
       "712    30.422063   -86.930276     -74  12.8         1  1668371552\n",
       "\n",
       "[74 rows x 6 columns]"
      ]
     },
     "execution_count": 192,
     "metadata": {},
     "output_type": "execute_result"
    }
   ],
   "source": [
    "y = data[\"distance\"]\n",
    "X = data.drop([\"distance\", \"challengee_lat\", \"challengee_lng\"], axis=1)\n",
    "X"
   ]
  },
  {
   "cell_type": "code",
   "execution_count": 193,
   "id": "2a8f2780",
   "metadata": {},
   "outputs": [],
   "source": [
    "X_train, X_test, y_train, y_test = train_test_split(X, y, test_size=0.1, random_state=1007486)"
   ]
  },
  {
   "cell_type": "markdown",
   "id": "7993f12c",
   "metadata": {},
   "source": [
    "### Linear Regression Model"
   ]
  },
  {
   "cell_type": "code",
   "execution_count": 198,
   "id": "9eb4fd94",
   "metadata": {},
   "outputs": [
    {
     "name": "stdout",
     "output_type": "stream",
     "text": [
      "   explained_variance:  0.4333\n",
      "   r2:  0.4332\n",
      "   MAE:  2049.2371\n",
      "   MSE:  7058869.9756\n",
      "   RMSE:  2656.8534\n"
     ]
    }
   ],
   "source": [
    "lin = LinearRegression()\n",
    "lin.fit(X_train, y_train)\n",
    "yPred = lin.predict(X_test)\n",
    "regression_results(y_test, yPred)"
   ]
  },
  {
   "cell_type": "code",
   "execution_count": 219,
   "id": "44c72340",
   "metadata": {},
   "outputs": [
    {
     "name": "stdout",
     "output_type": "stream",
     "text": [
      "   explained_variance:  -2.3031\n",
      "   r2:  -2.3055\n",
      "   MAE:  4528.4201\n",
      "   MSE:  41168127.3083\n",
      "   RMSE:  6416.2393\n"
     ]
    }
   ],
   "source": [
    "poly_transformer = PolynomialFeatures(degree=2)\n",
    "X_poly_train = poly_transformer.fit_transform(X_train)\n",
    "X_poly_test = poly_transformer.fit_transform(X_test)\n",
    "linear_regressor = LinearRegression()\n",
    "linear_regressor.fit(X_poly_train, y_train)\n",
    "yPred = linear_regressor.predict(X_poly_test)\n",
    "regression_results(y_test, yPred)"
   ]
  },
  {
   "cell_type": "code",
   "execution_count": 234,
   "id": "b68b069b",
   "metadata": {},
   "outputs": [
    {
     "name": "stdout",
     "output_type": "stream",
     "text": [
      "   explained_variance:  -0.0175\n",
      "   r2:  -0.0403\n",
      "   MAE:  2720.7678\n",
      "   MSE:  12955718.7394\n",
      "   RMSE:  3599.4053\n"
     ]
    },
    {
     "name": "stderr",
     "output_type": "stream",
     "text": [
      "f:\\Python\\lib\\site-packages\\sklearn\\base.py:443: UserWarning: X has feature names, but FunctionTransformer was fitted without feature names\n",
      "  warnings.warn(\n",
      "f:\\Python\\lib\\site-packages\\sklearn\\base.py:443: UserWarning: X has feature names, but FunctionTransformer was fitted without feature names\n",
      "  warnings.warn(\n"
     ]
    }
   ],
   "source": [
    "funktion_transformer = FunctionTransformer(np.log1p, validate=True)\n",
    "\n",
    "X_log_train = X_train.copy()\n",
    "X_log_train[\"signal\"] = X_log_train[\"signal\"]*-1\n",
    "X_log_train[\"snr\"] = X_log_train[\"snr\"]**2\n",
    "X_log_train.drop([\"witness_lat\",\t\"witness_lng\"], axis=1, inplace=True)\n",
    "\n",
    "X_log_test = X_test.copy()\n",
    "X_log_test[\"signal\"] = X_log_test[\"signal\"]*-1\n",
    "X_log_test[\"snr\"] = X_log_test[\"snr\"]**2\n",
    "X_log_test.drop([\"witness_lat\",\t\"witness_lng\"], axis=1, inplace=True)\n",
    "\n",
    "X_log_train = funktion_transformer.transform(X_log_train)\n",
    "X_log_test = funktion_transformer.transform(X_log_test)\n",
    "\n",
    "linear_regressor = LinearRegression()\n",
    "linear_regressor.fit(X_log_train, y_train)\n",
    "yPred = linear_regressor.predict(X_log_test)\n",
    "regression_results(y_test, yPred)"
   ]
  },
  {
   "cell_type": "markdown",
   "id": "dd0cb14a",
   "metadata": {},
   "source": [
    "### Random Forest Regression"
   ]
  },
  {
   "cell_type": "code",
   "execution_count": 176,
   "id": "82e8183c",
   "metadata": {},
   "outputs": [
    {
     "name": "stdout",
     "output_type": "stream",
     "text": [
      "   explained_variance:  0.4383\n",
      "   r2:  -0.0888\n",
      "   MAE:  3831.9622\n",
      "   MSE:  30328449.169\n",
      "   RMSE:  5507.1271\n"
     ]
    }
   ],
   "source": [
    "random_forest_regression = RandomForestRegressor(n_estimators=100, max_depth=20)\n",
    "random_forest_regression.fit(X_train, y_train)\n",
    "random_forest_regression_yPred = random_forest_regression.predict(X_test)\n",
    "\n",
    "regression_results(y_test, random_forest_regression_yPred)"
   ]
  },
  {
   "cell_type": "markdown",
   "id": "b70288cc",
   "metadata": {},
   "source": [
    "### Randomized Search"
   ]
  },
  {
   "cell_type": "code",
   "execution_count": 177,
   "id": "f30330c9",
   "metadata": {},
   "outputs": [
    {
     "name": "stdout",
     "output_type": "stream",
     "text": [
      "   explained_variance:  0.1813\n",
      "   r2:  0.0329\n",
      "   MAE:  4526.0536\n",
      "   MSE:  26936643.5304\n",
      "   RMSE:  5190.0524\n",
      "{'estimator__n_estimators': 150, 'estimator__min_samples_split': 34, 'estimator__min_samples_leaf': 7, 'estimator__max_features': 'sqrt', 'estimator__max_depth': 4, 'estimator__criterion': 'squared_error'}\n"
     ]
    }
   ],
   "source": [
    "rf  = Pipeline(\n",
    "    steps=[\n",
    "        (\"scaler\", StandardScaler()),\n",
    "        (\"estimator\", RandomForestRegressor(warm_start=True, oob_score=True))\n",
    "    ]\n",
    ")\n",
    "\n",
    "rgrid = {\n",
    "    \"estimator__n_estimators\": np.arange(50,500,10),\n",
    "    \"estimator__criterion\": [\"squared_error\", \"absolute_error\", \"poisson\"],\n",
    "    \"estimator__min_samples_split\":np.arange(1, 50),\n",
    "    \"estimator__min_samples_leaf\":np.arange(1, 50),\n",
    "    \"estimator__max_features\": [\"sqrt\", \"log2\"],\n",
    "    \"estimator__max_depth\": np.arange(2, 20)\n",
    "}\n",
    "\n",
    "\n",
    "opt_rf = RandomizedSearchCV(rf, rgrid, cv = 5, scoring=\"neg_root_mean_squared_error\", random_state=1007486)\n",
    "opt_rf.fit(X_train, y_train)\n",
    "yrf_pred = opt_rf.predict(X_test)\n",
    "regression_results(y_test, yrf_pred)\n",
    "print(opt_rf.best_params_)"
   ]
  },
  {
   "cell_type": "markdown",
   "id": "ff528ca3",
   "metadata": {},
   "source": [
    "### Gridsearch"
   ]
  },
  {
   "cell_type": "code",
   "execution_count": 119,
   "id": "66306747",
   "metadata": {},
   "outputs": [
    {
     "name": "stdout",
     "output_type": "stream",
     "text": [
      "   explained_variance:  0.7905\n",
      "   r2:  -0.2318\n",
      "   MAE:  730.0524\n",
      "   MSE:  642171.7465\n",
      "   RMSE:  801.3562\n",
      "{'estimator__max_depth': 11, 'estimator__n_estimators': 80}\n"
     ]
    }
   ],
   "source": [
    "rf  = Pipeline(\n",
    "    steps=[\n",
    "        (\"scaler\", StandardScaler()),\n",
    "        (\"estimator\", RandomForestRegressor(warm_start=True, oob_score=True))\n",
    "    ]\n",
    ")\n",
    "\n",
    "rgrid = {\n",
    "    \"estimator__n_estimators\": np.arange(50,200,10),\n",
    "    \"estimator__max_depth\": np.arange(2, 20)\n",
    "}\n",
    "\n",
    "\n",
    "opt_rf = GridSearchCV(rf, rgrid, cv = 5, scoring=\"neg_root_mean_squared_error\")\n",
    "opt_rf.fit(X_train, y_train)\n",
    "yrf_pred = opt_rf.predict(X_test)\n",
    "regression_results(y_test, yrf_pred)\n",
    "print(opt_rf.best_params_)"
   ]
  },
  {
   "cell_type": "markdown",
   "id": "baa1a635",
   "metadata": {},
   "source": [
    "### GradientBoostingRegressor"
   ]
  },
  {
   "cell_type": "code",
   "execution_count": 195,
   "id": "4739f015",
   "metadata": {},
   "outputs": [
    {
     "name": "stdout",
     "output_type": "stream",
     "text": [
      "   explained_variance:  0.4254\n",
      "   r2:  0.414\n",
      "   MAE:  2248.7163\n",
      "   MSE:  7298728.36\n",
      "   RMSE:  2701.6159\n",
      "{'estimator__n_estimators': 430, 'estimator__min_samples_split': 0.3100000686868687, 'estimator__max_features': 'sqrt', 'estimator__max_depth': 5, 'estimator__loss': 'absolute_error', 'estimator__learning_rate': 0.08246938775510204}\n"
     ]
    }
   ],
   "source": [
    "\n",
    "pipeline = Pipeline(\n",
    "    steps=[\n",
    "        (\"scaler\", StandardScaler()),\n",
    "        (\"estimator\", GradientBoostingRegressor())\n",
    "    ]\n",
    ")\n",
    "\n",
    "grid = {\n",
    "    \"estimator__n_estimators\": np.arange(10,500,10),\n",
    "    \"estimator__learning_rate\": np.linspace(1e-3, 0.5,50),\n",
    "    \"estimator__max_depth\": np.arange(1,15), \n",
    "    \"estimator__min_samples_split\": np.linspace(1e-7, 0.99,100),\n",
    "    \"estimator__max_features\": [\"sqrt\", \"log2\"],\n",
    "    \"estimator__loss\": [\"squared_error\", \"absolute_error\", \"huber\", \"quantile\"]\n",
    "}\n",
    "\n",
    "gbt_grid = RandomizedSearchCV(pipeline, grid, cv=5,scoring=\"neg_root_mean_squared_error\", random_state=1007486)\n",
    "\n",
    "gbt_grid.fit(X_train, y_train)\n",
    "y_pred = gbt_grid.predict(X_test)\n",
    "regression_results(y_test, y_pred)\n",
    "print(gbt_grid.best_params_)"
   ]
  },
  {
   "cell_type": "markdown",
   "id": "4f2e430a",
   "metadata": {},
   "source": [
    "### Neural Network"
   ]
  },
  {
   "cell_type": "code",
   "execution_count": 141,
   "id": "59cad49a",
   "metadata": {},
   "outputs": [
    {
     "name": "stderr",
     "output_type": "stream",
     "text": [
      "f:\\Python\\lib\\site-packages\\sklearn\\neural_network\\_multilayer_perceptron.py:559: ConvergenceWarning: lbfgs failed to converge (status=1):\n",
      "STOP: TOTAL NO. of ITERATIONS REACHED LIMIT.\n",
      "\n",
      "Increase the number of iterations (max_iter) or scale the data as shown in:\n",
      "    https://scikit-learn.org/stable/modules/preprocessing.html\n",
      "  self.n_iter_ = _check_optimize_result(\"lbfgs\", opt_res, self.max_iter)\n",
      "f:\\Python\\lib\\site-packages\\sklearn\\neural_network\\_multilayer_perceptron.py:559: ConvergenceWarning: lbfgs failed to converge (status=2):\n",
      "ABNORMAL_TERMINATION_IN_LNSRCH.\n",
      "\n",
      "Increase the number of iterations (max_iter) or scale the data as shown in:\n",
      "    https://scikit-learn.org/stable/modules/preprocessing.html\n",
      "  self.n_iter_ = _check_optimize_result(\"lbfgs\", opt_res, self.max_iter)\n"
     ]
    },
    {
     "name": "stdout",
     "output_type": "stream",
     "text": [
      "   explained_variance:  0.9194\n",
      "   r2:  -0.9538\n",
      "   MAE:  988.1907\n",
      "   MSE:  1018526.7438\n",
      "   RMSE:  1009.2209\n",
      "{'MLPRegressor__activation': 'tanh', 'MLPRegressor__hidden_layer_sizes': (2, 2), 'MLPRegressor__solver': 'lbfgs'}\n"
     ]
    }
   ],
   "source": [
    "pipe_MLPRegressor = Pipeline(\n",
    "    [\n",
    "        ('scaler',  StandardScaler()),\n",
    "        ('MLPRegressor', MLPRegressor(random_state = 42, max_iter=1000))\n",
    "    ]\n",
    ")\n",
    "\n",
    "grid_params_MLPRegressor = [{\n",
    "    'MLPRegressor__solver': ['lbfgs'],\n",
    "    'MLPRegressor__activation' : ['relu','logistic','tanh'],\n",
    "    'MLPRegressor__hidden_layer_sizes':[(2,), (4,),(2,2),(4,4),(4,2),(10,10),(2,\n",
    "2,2)],}]\n",
    "\n",
    "\n",
    "CV_mlpregressor = GridSearchCV(estimator = pipe_MLPRegressor, param_grid = grid_params_MLPRegressor, cv = 5, return_train_score=True, verbose=0)\n",
    "\n",
    "CV_mlpregressor.fit(X_train, y_train)\n",
    "y_pred = gbt_grid.predict(X_test)\n",
    "regression_results(y_test, y_pred)\n",
    "print(CV_mlpregressor.best_params_)"
   ]
  },
  {
   "cell_type": "markdown",
   "id": "a44254b7",
   "metadata": {},
   "source": [
    "### PCA"
   ]
  },
  {
   "cell_type": "code",
   "execution_count": 123,
   "id": "78db6e96",
   "metadata": {},
   "outputs": [
    {
     "name": "stderr",
     "output_type": "stream",
     "text": [
      "f:\\Python\\lib\\site-packages\\sklearn\\model_selection\\_validation.py:378: FitFailedWarning: \n",
      "5 fits failed out of a total of 50.\n",
      "The score on these train-test partitions for these parameters will be set to nan.\n",
      "If these failures are not expected, you can try to debug them by setting error_score='raise'.\n",
      "\n",
      "Below are more details about the failures:\n",
      "--------------------------------------------------------------------------------\n",
      "5 fits failed with the following error:\n",
      "Traceback (most recent call last):\n",
      "  File \"f:\\Python\\lib\\site-packages\\sklearn\\model_selection\\_validation.py\", line 686, in _fit_and_score\n",
      "    estimator.fit(X_train, y_train, **fit_params)\n",
      "  File \"f:\\Python\\lib\\site-packages\\sklearn\\pipeline.py\", line 382, in fit\n",
      "    self._final_estimator.fit(Xt, y, **fit_params_last_step)\n",
      "  File \"f:\\Python\\lib\\site-packages\\sklearn\\ensemble\\_forest.py\", line 476, in fit\n",
      "    trees = Parallel(\n",
      "  File \"f:\\Python\\lib\\site-packages\\joblib\\parallel.py\", line 1085, in __call__\n",
      "    if self.dispatch_one_batch(iterator):\n",
      "  File \"f:\\Python\\lib\\site-packages\\joblib\\parallel.py\", line 901, in dispatch_one_batch\n",
      "    self._dispatch(tasks)\n",
      "  File \"f:\\Python\\lib\\site-packages\\joblib\\parallel.py\", line 819, in _dispatch\n",
      "    job = self._backend.apply_async(batch, callback=cb)\n",
      "  File \"f:\\Python\\lib\\site-packages\\joblib\\_parallel_backends.py\", line 208, in apply_async\n",
      "    result = ImmediateResult(func)\n",
      "  File \"f:\\Python\\lib\\site-packages\\joblib\\_parallel_backends.py\", line 597, in __init__\n",
      "    self.results = batch()\n",
      "  File \"f:\\Python\\lib\\site-packages\\joblib\\parallel.py\", line 288, in __call__\n",
      "    return [func(*args, **kwargs)\n",
      "  File \"f:\\Python\\lib\\site-packages\\joblib\\parallel.py\", line 288, in <listcomp>\n",
      "    return [func(*args, **kwargs)\n",
      "  File \"f:\\Python\\lib\\site-packages\\sklearn\\utils\\fixes.py\", line 117, in __call__\n",
      "    return self.function(*args, **kwargs)\n",
      "  File \"f:\\Python\\lib\\site-packages\\sklearn\\ensemble\\_forest.py\", line 189, in _parallel_build_trees\n",
      "    tree.fit(X, y, sample_weight=curr_sample_weight, check_input=False)\n",
      "  File \"f:\\Python\\lib\\site-packages\\sklearn\\tree\\_classes.py\", line 1342, in fit\n",
      "    super().fit(\n",
      "  File \"f:\\Python\\lib\\site-packages\\sklearn\\tree\\_classes.py\", line 265, in fit\n",
      "    check_scalar(\n",
      "  File \"f:\\Python\\lib\\site-packages\\sklearn\\utils\\validation.py\", line 1480, in check_scalar\n",
      "    raise ValueError(\n",
      "ValueError: min_samples_split == 1, must be >= 2.\n",
      "\n",
      "  warnings.warn(some_fits_failed_message, FitFailedWarning)\n",
      "f:\\Python\\lib\\site-packages\\sklearn\\model_selection\\_search.py:953: UserWarning: One or more of the test scores are non-finite: [-2538.49647009 -2591.86313588 -2540.47305051            nan\n",
      " -2826.31558392 -2552.97638631 -2837.52135682 -2830.19963052\n",
      " -2568.72134412 -2843.66108949]\n",
      "  warnings.warn(\n"
     ]
    },
    {
     "name": "stdout",
     "output_type": "stream",
     "text": [
      "   explained_variance:  0.0\n",
      "   r2:  -0.0575\n",
      "   MAE:  722.0216\n",
      "   MSE:  551268.5876\n",
      "   RMSE:  742.4746\n",
      "{'estimator__n_estimators': 260, 'estimator__min_samples_split': 17, 'estimator__min_samples_leaf': 30, 'estimator__max_features': 'log2', 'estimator__max_depth': 3, 'estimator__criterion': 'absolute_error', 'decomposer__n_components': 3}\n"
     ]
    }
   ],
   "source": [
    "rf  = Pipeline(\n",
    "    steps=[\n",
    "        (\"scaler\", StandardScaler()),\n",
    "        (\"decomposer\", PCA()),\n",
    "        (\"estimator\", RandomForestRegressor(warm_start=True, oob_score=True))\n",
    "    ]\n",
    ")\n",
    "\n",
    "rgrid = {\n",
    "    \"estimator__n_estimators\": np.arange(50,500,10),\n",
    "    \"estimator__criterion\": [\"squared_error\", \"absolute_error\", \"poisson\"],\n",
    "    \"estimator__min_samples_split\":np.arange(1, 50),\n",
    "    \"estimator__min_samples_leaf\":np.arange(1, 50),\n",
    "    \"estimator__max_features\": [\"sqrt\", \"log2\"],\n",
    "    \"estimator__max_depth\": np.arange(2, 20), \n",
    "    \"decomposer__n_components\": np.arange(1, 6)\n",
    "}\n",
    "\n",
    "\n",
    "opt_rf = RandomizedSearchCV(rf, rgrid, cv = 5, scoring=\"neg_root_mean_squared_error\", random_state=1007486)\n",
    "opt_rf.fit(X_train, y_train)\n",
    "yrf_pred = opt_rf.predict(X_test)\n",
    "regression_results(y_test, yrf_pred)\n",
    "print(opt_rf.best_params_)"
   ]
  },
  {
   "cell_type": "code",
   "execution_count": 126,
   "id": "93a30d36",
   "metadata": {},
   "outputs": [
    {
     "name": "stdout",
     "output_type": "stream",
     "text": [
      "   explained_variance:  0.0213\n",
      "   r2:  -0.3765\n",
      "   MAE:  714.2855\n",
      "   MSE:  717615.2919\n",
      "   RMSE:  847.1218\n",
      "{'estimator__n_estimators': 120, 'estimator__min_samples_split': 0.24000007575757576, 'estimator__max_features': 'sqrt', 'estimator__max_depth': 7, 'estimator__loss': 'huber', 'estimator__learning_rate': 0.001, 'decomposer__n_components': 3}\n"
     ]
    }
   ],
   "source": [
    "pipeline = Pipeline(\n",
    "    steps=[\n",
    "        (\"scaler\", StandardScaler()),\n",
    "        (\"decomposer\", PCA()),\n",
    "        (\"estimator\", GradientBoostingRegressor())\n",
    "    ]\n",
    ")\n",
    "\n",
    "grid = {\n",
    "    \"estimator__n_estimators\": np.arange(10,500,10),\n",
    "    \"estimator__learning_rate\": np.linspace(1e-3, 0.5,50),\n",
    "    \"estimator__max_depth\": np.arange(1,15), \n",
    "    \"estimator__min_samples_split\": np.linspace(1e-7, 0.99,100),\n",
    "    \"estimator__max_features\": [\"sqrt\", \"log2\"],\n",
    "    \"estimator__loss\": [\"squared_error\", \"absolute_error\", \"huber\", \"quantile\"],\n",
    "    \"decomposer__n_components\": np.arange(1, 7)\n",
    "}\n",
    "\n",
    "gbt_grid = RandomizedSearchCV(pipeline, grid, cv=5,scoring=\"neg_root_mean_squared_error\", random_state=1007486)\n",
    "\n",
    "gbt_grid.fit(X_train, y_train)\n",
    "y_pred = gbt_grid.predict(X_test)\n",
    "regression_results(y_test, y_pred)\n",
    "print(gbt_grid.best_params_)"
   ]
  },
  {
   "cell_type": "markdown",
   "id": "3dbc74cc",
   "metadata": {},
   "source": [
    "### Visualization"
   ]
  },
  {
   "cell_type": "code",
   "execution_count": 235,
   "id": "9766334d",
   "metadata": {},
   "outputs": [
    {
     "name": "stderr",
     "output_type": "stream",
     "text": [
      "f:\\Python\\lib\\site-packages\\sklearn\\base.py:443: UserWarning: X has feature names, but PCA was fitted without feature names\n",
      "  warnings.warn(\n",
      "f:\\Python\\lib\\site-packages\\sklearn\\base.py:443: UserWarning: X has feature names, but PCA was fitted without feature names\n",
      "  warnings.warn(\n"
     ]
    },
    {
     "data": {
      "image/png": "[encoded data removed]",
      "text/plain": [
       "<Figure size 1000x300 with 2 Axes>"
      ]
     },
     "metadata": {},
     "output_type": "display_data"
    }
   ],
   "source": [
    "\n",
    "pcr = make_pipeline(StandardScaler(), PCA(n_components=1), LinearRegression())\n",
    "pcr.fit(X_train, y_train)\n",
    "pca = pcr.named_steps[\"pca\"]  # retrieve the PCA step of the pipeline\n",
    "\n",
    "pls = PLSRegression(n_components=1)\n",
    "pls.fit(X_train, y_train)\n",
    "\n",
    "fig, axes = plt.subplots(1, 2, figsize=(10, 3))\n",
    "axes[0].scatter(pca.transform(X_test), y_test, alpha=0.3, label=\"ground truth\")\n",
    "axes[0].scatter(\n",
    "    pca.transform(X_test), pcr.predict(X_test), alpha=0.3, label=\"predictions\"\n",
    ")\n",
    "axes[0].set(\n",
    "    xlabel=\"Projected data onto first PCA component\", ylabel=\"y\", title=\"PCR / PCA\"\n",
    ")\n",
    "axes[0].legend()\n",
    "axes[1].scatter(pls.transform(X_test), y_test, alpha=0.3, label=\"ground truth\")\n",
    "axes[1].scatter(\n",
    "    pls.transform(X_test), pls.predict(X_test), alpha=0.3, label=\"predictions\"\n",
    ")\n",
    "axes[1].set(xlabel=\"Projected data onto first PLS component\", ylabel=\"y\", title=\"PLS\")\n",
    "axes[1].legend()\n",
    "plt.tight_layout()\n",
    "plt.show()"
   ]
  },
  {
   "cell_type": "markdown",
   "id": "a72512be",
   "metadata": {
    "pycharm": {
     "name": "#%% md\n"
    }
   },
   "source": [
    "### Trilateration Test"
   ]
  },
  {
   "cell_type": "markdown",
   "id": "71ee6b52",
   "metadata": {
    "pycharm": {
     "name": "#%% md\n"
    }
   },
   "source": [
    "https://www.alanzucconi.com/2017/03/13/positioning-and-trilateration/"
   ]
  },
  {
   "cell_type": "code",
   "execution_count": null,
   "id": "83faaa6d",
   "metadata": {
    "pycharm": {
     "name": "#%%\n"
    }
   },
   "outputs": [],
   "source": [
    "def mse(x, locations, distances):\n",
    "    mse = 0.0\n",
    "    for location, distance in zip(locations, distances):\n",
    "        distance_calculated = hs.haversine(tuple(x), tuple(location), Unit.METERS)\n",
    "        mse += math.pow(distance_calculated - distance, 2.0)\n",
    "    return mse / len(distances)"
   ]
  },
  {
   "cell_type": "code",
   "execution_count": null,
   "id": "d661e5f9",
   "metadata": {
    "pycharm": {
     "name": "#%%\n"
    }
   },
   "outputs": [
    {
     "data": {
      "text/plain": [
       "array([47.58403 , 12.172852])"
      ]
     },
     "execution_count": 31,
     "metadata": {},
     "output_type": "execute_result"
    }
   ],
   "source": [
    "\n",
    "min_dist_row = df.loc[:2].sort_values(\"distance [m]\").iloc[0]\n",
    "initial_location = min_dist_row[\"lat\"], min_dist_row[\"lng\"]\n",
    "\n",
    "points = [ p for p in list(zip(df[\"lat\"], df[\"lng\"], df[\"distance [m]\"]))]\n",
    "\n",
    "locations = [(p[0], p[1]) for p in points]\n",
    "# distances = [p[2] + random.random()*40-20 for p in points[:3]] # experiment with noise\n",
    "distances = [p[2] for p in points[:3]]\n",
    "\n",
    "result = minimize(\n",
    "    mse,                         # The error function\n",
    "    initial_location,            # The initial guess (e.g. location with minimum distance to point)\n",
    "    args=(locations, distances), # Additional parameters for mse\n",
    "    method='L-BFGS-B',           # The optimisation algorithm\n",
    "    options={\n",
    "        'ftol':1e-5,         # Tolerance\n",
    "        'maxiter': 1e+7      # Maximum iterations\n",
    "    })\n",
    "location = result.x\n",
    "location"
   ]
  }
 ],
 "metadata": {
  "kernelspec": {
   "display_name": "Python 3.10.7 64-bit",
   "language": "python",
   "name": "python3"
  },
  "language_info": {
   "codemirror_mode": {
    "name": "ipython",
    "version": 3
   },
   "file_extension": ".py",
   "mimetype": "text/x-python",
   "name": "python",
   "nbconvert_exporter": "python",
   "pygments_lexer": "ipython3",
   "version": "3.10.7"
  },
  "vscode": {
   "interpreter": {
    "hash": "78f5b707d86fd9281530b9fa2dbdbe1b33232c3b651a8e052360c651d4996094"
   }
  }
 },
 "nbformat": 4,
 "nbformat_minor": 5
}
