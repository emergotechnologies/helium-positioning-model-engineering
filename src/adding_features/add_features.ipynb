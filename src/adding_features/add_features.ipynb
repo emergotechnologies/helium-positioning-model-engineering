{
 "cells": [
  {
   "cell_type": "code",
   "execution_count": 1,
   "metadata": {},
   "outputs": [
    {
     "name": "stderr",
     "output_type": "stream",
     "text": [
      "/home/fin/anaconda3/envs/tf_torch/lib/python3.9/site-packages/requests/__init__.py:102: RequestsDependencyWarning: urllib3 (1.26.12) or chardet (5.0.0)/charset_normalizer (2.0.12) doesn't match a supported version!\n",
      "  warnings.warn(\"urllib3 ({}) or chardet ({})/charset_normalizer ({}) doesn't match a supported \"\n"
     ]
    }
   ],
   "source": [
    "import pandas as pd\n",
    "\n",
    "from api_requests import get_seahight, get_artificial_brightness\n",
    "\n",
    "def prepare_data(lat, long, input_path_pickle_file, ouput_path_pickle_file):\n",
    "    \"\"\" adds seaheight and artificial_brightness to pickle file from helium-api-wrapper\n",
    "\n",
    "    path_to_pickle_file: str\n",
    "    ouput_path_pickle_file: str\n",
    "    \"\"\"\n",
    "\n",
    "    main_df = pd.read_pickle(input_path_pickle_file)\n",
    "    main_df=pd.DataFrame(main_df)\n",
    "    main_df=main_df.reset_index(drop=True)\n",
    "\n",
    "    #create empty list which will be added to the dataframe when filled\n",
    "    dummy_sealevel_list=[]\n",
    "    dummy_artificial_brightness_list=[]\n",
    "\n",
    "    #get sealevel and artificial_brightness for every row in the main dataframe\n",
    "    for index in range(len(main_df)):\n",
    "        witness_lat=main_df.iloc[index][f\"{lat}\"]\n",
    "        witness_lng=main_df.iloc[index][f\"{long}\"]\n",
    "\n",
    "        dummy_sealevel=get_seahight(witness_lat,witness_lng)\n",
    "        dummy_sealevel_list.append(dummy_sealevel)\n",
    "\n",
    "        dummy_artificial_brightness=get_artificial_brightness(witness_lat,witness_lng)\n",
    "        dummy_artificial_brightness_list.append(dummy_artificial_brightness)\n",
    "        \n",
    "    #create full dataframe with list\n",
    "    dummy_df_sealevel=pd.DataFrame()\n",
    "    dummy_df_sealevel[\"seahight\"]=dummy_sealevel_list\n",
    "    dummy_df_sealevel=pd.DataFrame(dummy_df_sealevel)\n",
    "\n",
    "    dummy_df_artificial_brightness=pd.DataFrame()\n",
    "    dummy_df_artificial_brightness[\"artificial_brightness\"]=dummy_artificial_brightness_list\n",
    "    dummy_df_artificial_brightness=pd.DataFrame(dummy_df_artificial_brightness)\n",
    "\n",
    "    dataframe_with_added_features = pd.concat([dummy_df_sealevel, dummy_df_artificial_brightness, main_df], axis=1)\n",
    "    dataframe_with_added_features.to_pickle(ouput_path_pickle_file)\n",
    "    return(dataframe_with_added_features)\n",
    "\n"
   ]
  }
 ],
 "metadata": {
  "kernelspec": {
   "display_name": "Python 3",
   "language": "python",
   "name": "python3"
  },
  "language_info": {
   "codemirror_mode": {
    "name": "ipython",
    "version": 3
   },
   "file_extension": ".py",
   "mimetype": "text/x-python",
   "name": "python",
   "nbconvert_exporter": "python",
   "pygments_lexer": "ipython3",
   "version": "3.10.9 (main, Jan 23 2023, 22:32:48) [GCC 10.2.1 20210110]"
  },
  "orig_nbformat": 4,
  "vscode": {
   "interpreter": {
    "hash": "949777d72b0d2535278d3dc13498b2535136f6dfe0678499012e853ee9abcab1"
   }
  }
 },
 "nbformat": 4,
 "nbformat_minor": 2
}
